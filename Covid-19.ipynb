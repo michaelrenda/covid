{
 "cells": [
  {
   "cell_type": "code",
   "execution_count": 463,
   "metadata": {},
   "outputs": [],
   "source": [
    "import pandas as pd \n",
    "import numpy as np\n",
    "import matplotlib.pyplot as plt\n",
    "%matplotlib inline\n",
    "plt.rcParams[\"figure.figsize\"] = [24, 15]\n",
    "from scipy.signal import savgol_filter\n",
    "import matplotlib.dates as mdates\n",
    "import matplotlib as mpl\n",
    "from matplotlib.dates import MO, TU, WE, TH, FR, SA, SU\n",
    "import locale, os, sys\n",
    "import datetime\n"
   ]
  },
  {
   "cell_type": "code",
   "execution_count": 465,
   "metadata": {},
   "outputs": [],
   "source": [
    "root_path = sys.argv[1]\n",
    "df_confirmed = pd.read_csv(\"https://github.com/CSSEGISandData/COVID-19/raw/master/csse_covid_19_data/csse_covid_19_time_series/time_series_covid19_confirmed_US.csv\")"
   ]
  },
  {
   "cell_type": "code",
   "execution_count": 430,
   "metadata": {},
   "outputs": [],
   "source": [
    "df_confirmed.drop(['UID', 'iso2', 'iso3', 'code3', 'Country_Region', 'Lat', 'Long_', 'Combined_Key'], axis=1, inplace=True)"
   ]
  },
  {
   "cell_type": "code",
   "execution_count": 431,
   "metadata": {},
   "outputs": [],
   "source": [
    "\n",
    "fixed_cols = ['FIPS', 'Admin2', 'Province_State']"
   ]
  },
  {
   "cell_type": "code",
   "execution_count": 432,
   "metadata": {},
   "outputs": [],
   "source": [
    "df_confirmed = pd.melt(frame=df_confirmed,id_vars=fixed_cols, var_name=\"rpt_date\", value_name=\"confirmed\")"
   ]
  },
  {
   "cell_type": "code",
   "execution_count": 433,
   "metadata": {
    "scrolled": true
   },
   "outputs": [
    {
     "data": {
      "text/html": [
       "<div>\n",
       "<style scoped>\n",
       "    .dataframe tbody tr th:only-of-type {\n",
       "        vertical-align: middle;\n",
       "    }\n",
       "\n",
       "    .dataframe tbody tr th {\n",
       "        vertical-align: top;\n",
       "    }\n",
       "\n",
       "    .dataframe thead th {\n",
       "        text-align: right;\n",
       "    }\n",
       "</style>\n",
       "<table border=\"1\" class=\"dataframe\">\n",
       "  <thead>\n",
       "    <tr style=\"text-align: right;\">\n",
       "      <th></th>\n",
       "      <th>FIPS</th>\n",
       "      <th>Admin2</th>\n",
       "      <th>Province_State</th>\n",
       "      <th>rpt_date</th>\n",
       "      <th>confirmed</th>\n",
       "    </tr>\n",
       "  </thead>\n",
       "  <tbody>\n",
       "    <tr>\n",
       "      <th>0</th>\n",
       "      <td>1001.0</td>\n",
       "      <td>Autauga</td>\n",
       "      <td>Alabama</td>\n",
       "      <td>1/22/20</td>\n",
       "      <td>0</td>\n",
       "    </tr>\n",
       "    <tr>\n",
       "      <th>1</th>\n",
       "      <td>1003.0</td>\n",
       "      <td>Baldwin</td>\n",
       "      <td>Alabama</td>\n",
       "      <td>1/22/20</td>\n",
       "      <td>0</td>\n",
       "    </tr>\n",
       "    <tr>\n",
       "      <th>2</th>\n",
       "      <td>1005.0</td>\n",
       "      <td>Barbour</td>\n",
       "      <td>Alabama</td>\n",
       "      <td>1/22/20</td>\n",
       "      <td>0</td>\n",
       "    </tr>\n",
       "    <tr>\n",
       "      <th>3</th>\n",
       "      <td>1007.0</td>\n",
       "      <td>Bibb</td>\n",
       "      <td>Alabama</td>\n",
       "      <td>1/22/20</td>\n",
       "      <td>0</td>\n",
       "    </tr>\n",
       "    <tr>\n",
       "      <th>4</th>\n",
       "      <td>1009.0</td>\n",
       "      <td>Blount</td>\n",
       "      <td>Alabama</td>\n",
       "      <td>1/22/20</td>\n",
       "      <td>0</td>\n",
       "    </tr>\n",
       "    <tr>\n",
       "      <th>...</th>\n",
       "      <td>...</td>\n",
       "      <td>...</td>\n",
       "      <td>...</td>\n",
       "      <td>...</td>\n",
       "      <td>...</td>\n",
       "    </tr>\n",
       "    <tr>\n",
       "      <th>995</th>\n",
       "      <td>20139.0</td>\n",
       "      <td>Osage</td>\n",
       "      <td>Kansas</td>\n",
       "      <td>1/22/20</td>\n",
       "      <td>0</td>\n",
       "    </tr>\n",
       "    <tr>\n",
       "      <th>996</th>\n",
       "      <td>20141.0</td>\n",
       "      <td>Osborne</td>\n",
       "      <td>Kansas</td>\n",
       "      <td>1/22/20</td>\n",
       "      <td>0</td>\n",
       "    </tr>\n",
       "    <tr>\n",
       "      <th>997</th>\n",
       "      <td>20143.0</td>\n",
       "      <td>Ottawa</td>\n",
       "      <td>Kansas</td>\n",
       "      <td>1/22/20</td>\n",
       "      <td>0</td>\n",
       "    </tr>\n",
       "    <tr>\n",
       "      <th>998</th>\n",
       "      <td>80020.0</td>\n",
       "      <td>Out of KS</td>\n",
       "      <td>Kansas</td>\n",
       "      <td>1/22/20</td>\n",
       "      <td>0</td>\n",
       "    </tr>\n",
       "    <tr>\n",
       "      <th>999</th>\n",
       "      <td>20145.0</td>\n",
       "      <td>Pawnee</td>\n",
       "      <td>Kansas</td>\n",
       "      <td>1/22/20</td>\n",
       "      <td>0</td>\n",
       "    </tr>\n",
       "  </tbody>\n",
       "</table>\n",
       "<p>1000 rows × 5 columns</p>\n",
       "</div>"
      ],
      "text/plain": [
       "        FIPS     Admin2 Province_State rpt_date  confirmed\n",
       "0     1001.0    Autauga        Alabama  1/22/20          0\n",
       "1     1003.0    Baldwin        Alabama  1/22/20          0\n",
       "2     1005.0    Barbour        Alabama  1/22/20          0\n",
       "3     1007.0       Bibb        Alabama  1/22/20          0\n",
       "4     1009.0     Blount        Alabama  1/22/20          0\n",
       "..       ...        ...            ...      ...        ...\n",
       "995  20139.0      Osage         Kansas  1/22/20          0\n",
       "996  20141.0    Osborne         Kansas  1/22/20          0\n",
       "997  20143.0     Ottawa         Kansas  1/22/20          0\n",
       "998  80020.0  Out of KS         Kansas  1/22/20          0\n",
       "999  20145.0     Pawnee         Kansas  1/22/20          0\n",
       "\n",
       "[1000 rows x 5 columns]"
      ]
     },
     "execution_count": 433,
     "metadata": {},
     "output_type": "execute_result"
    }
   ],
   "source": [
    "df_confirmed.head(1000)"
   ]
  },
  {
   "cell_type": "code",
   "execution_count": 434,
   "metadata": {},
   "outputs": [],
   "source": [
    "df_confirmed['daily_new'] = 0\n",
    "\n",
    "df_confirmed['rpt_date'] = pd.to_datetime(df_confirmed.rpt_date, format=\"%m/%d/%y\")\n",
    "\n",
    "df_confirmed.sort_values(by=['Province_State', 'Admin2', 'rpt_date'], axis=0, inplace=True, ascending=[True, True,True])\n",
    "df_confirmed = df_confirmed.reset_index(drop=True)"
   ]
  },
  {
   "cell_type": "code",
   "execution_count": 435,
   "metadata": {},
   "outputs": [
    {
     "name": "stdout",
     "output_type": "stream",
     "text": [
      "CPU times: user 6min 12s, sys: 1.51 s, total: 6min 14s\n",
      "Wall time: 6min 14s\n"
     ]
    }
   ],
   "source": [
    "%%time\n",
    "for idx, row in df_confirmed.iterrows():\n",
    "    if idx > 0:\n",
    "        prev_row = df_confirmed.loc[idx-1]\n",
    "        if row['Admin2'] == prev_row['Admin2'] and row['Province_State'] == prev_row['Province_State']:\n",
    "            df_confirmed.at[idx,'daily_new'] = row.confirmed - prev_row.confirmed"
   ]
  },
  {
   "cell_type": "code",
   "execution_count": 436,
   "metadata": {
    "scrolled": true
   },
   "outputs": [
    {
     "name": "stdout",
     "output_type": "stream",
     "text": [
      "<class 'pandas.core.frame.DataFrame'>\n",
      "RangeIndex: 1610844 entries, 0 to 1610843\n",
      "Data columns (total 6 columns):\n",
      " #   Column          Non-Null Count    Dtype         \n",
      "---  ------          --------------    -----         \n",
      " 0   FIPS            1606024 non-null  float64       \n",
      " 1   Admin2          1607952 non-null  object        \n",
      " 2   Province_State  1610844 non-null  object        \n",
      " 3   rpt_date        1610844 non-null  datetime64[ns]\n",
      " 4   confirmed       1610844 non-null  int64         \n",
      " 5   daily_new       1610844 non-null  int64         \n",
      "dtypes: datetime64[ns](1), float64(1), int64(2), object(2)\n",
      "memory usage: 73.7+ MB\n"
     ]
    }
   ],
   "source": [
    "df_confirmed.info()"
   ]
  },
  {
   "cell_type": "code",
   "execution_count": 437,
   "metadata": {},
   "outputs": [],
   "source": [
    "df_dead = pd.read_csv(\"https://github.com/CSSEGISandData/COVID-19/raw/master/csse_covid_19_data/csse_covid_19_time_series/time_series_covid19_deaths_US.csv\")"
   ]
  },
  {
   "cell_type": "code",
   "execution_count": 438,
   "metadata": {
    "scrolled": true
   },
   "outputs": [],
   "source": [
    "df_dead.drop(['UID', 'iso2', 'iso3', 'code3', 'Country_Region', 'Lat', 'Long_', 'Combined_Key', 'Population'], axis=1, inplace=True)"
   ]
  },
  {
   "cell_type": "code",
   "execution_count": 439,
   "metadata": {},
   "outputs": [],
   "source": [
    "df_dead = pd.melt(frame=df_dead,id_vars=fixed_cols, var_name=\"rpt_date\", value_name=\"deaths\")"
   ]
  },
  {
   "cell_type": "code",
   "execution_count": 440,
   "metadata": {},
   "outputs": [],
   "source": [
    "df_dead['daily_new'] = 0\n",
    "df_dead['rpt_date'] = pd.to_datetime(df_dead.rpt_date, format=\"%m/%d/%y\")\n",
    "df_dead.sort_values(by=['Province_State', 'Admin2', 'rpt_date'], axis=0, inplace=True, ascending=[True, True,True])\n",
    "df_dead = df_dead.reset_index(drop=True)"
   ]
  },
  {
   "cell_type": "code",
   "execution_count": 441,
   "metadata": {},
   "outputs": [
    {
     "name": "stdout",
     "output_type": "stream",
     "text": [
      "CPU times: user 6min 5s, sys: 667 ms, total: 6min 5s\n",
      "Wall time: 6min 6s\n"
     ]
    }
   ],
   "source": [
    "%%time\n",
    "for idx, row in df_dead.iterrows():\n",
    "    if idx > 0:\n",
    "        prev_row = df_dead.loc[idx-1]\n",
    "        if row['Admin2'] == prev_row['Admin2'] and row['Province_State'] == prev_row['Province_State']:\n",
    "            df_dead.at[idx,'daily_new'] = row.deaths - prev_row.deaths"
   ]
  },
  {
   "cell_type": "code",
   "execution_count": 442,
   "metadata": {},
   "outputs": [
    {
     "name": "stdout",
     "output_type": "stream",
     "text": [
      "<class 'pandas.core.frame.DataFrame'>\n",
      "RangeIndex: 1610844 entries, 0 to 1610843\n",
      "Data columns (total 6 columns):\n",
      " #   Column          Non-Null Count    Dtype         \n",
      "---  ------          --------------    -----         \n",
      " 0   FIPS            1606024 non-null  float64       \n",
      " 1   Admin2          1607952 non-null  object        \n",
      " 2   Province_State  1610844 non-null  object        \n",
      " 3   rpt_date        1610844 non-null  datetime64[ns]\n",
      " 4   deaths          1610844 non-null  int64         \n",
      " 5   daily_new       1610844 non-null  int64         \n",
      "dtypes: datetime64[ns](1), float64(1), int64(2), object(2)\n",
      "memory usage: 73.7+ MB\n"
     ]
    }
   ],
   "source": [
    "df_dead.info()"
   ]
  },
  {
   "cell_type": "code",
   "execution_count": 443,
   "metadata": {},
   "outputs": [],
   "source": [
    "def build_xy(df):\n",
    "    x = df[(df.rpt_date > datetime.datetime(2020, 1, 27))].rpt_date.unique()\n",
    "    y = df[(df.rpt_date > datetime.datetime(2020, 1, 27))].groupby(df['rpt_date']).daily_new.sum()\n",
    "    mySum = df.daily_new.sum()\n",
    "    return x, y, mySum"
   ]
  },
  {
   "cell_type": "code",
   "execution_count": 444,
   "metadata": {},
   "outputs": [],
   "source": [
    "def createBarChart(x, y, jurisdiction, isConfirmed, cum_total, file_path):\n",
    "    # Set the font dictionaries (for plot title and axis titles)\n",
    "    title_font = {'fontname':'Arial', 'size':'32', 'color':'black', 'weight':'bold',\n",
    "              'verticalalignment':'bottom'} # Bottom vertical alignment for more space\n",
    "    axis_font = {'fontname':'Arial', 'size':'18', 'weight':'bold', 'color':'blue'}\n",
    "\n",
    "    fmt = mdates.DateFormatter('%Y-%m-%d')\n",
    "    loc = mdates.WeekdayLocator(byweekday=MO, interval=4)\n",
    "\n",
    "    ax = plt.axes()\n",
    "    ax.xaxis.set_major_formatter(fmt)\n",
    "    ax.xaxis.set_major_locator(loc)\n",
    "    for tick in ax.xaxis.get_major_ticks():\n",
    "        tick.label.set_fontsize(14) \n",
    "    for tick in ax.yaxis.get_major_ticks():\n",
    "        tick.label.set_fontsize(14) \n",
    "    ax.yaxis.set_major_formatter(mpl.ticker.StrMethodFormatter('{x:,.0f}'))\n",
    "    ax.set_facecolor('#ebebeb')\n",
    "    ax.set_axisbelow(True)\n",
    "\n",
    "    if isConfirmed:\n",
    "        file_name = jurisdiction + \"Confirmed.png\"\n",
    "        title2 = \" - New Cases per Day\"\n",
    "        cum_str = f\"{cum_total:,}\" + \" cases\"\n",
    "    else:\n",
    "        file_name = jurisdiction + \"Deaths.png\"\n",
    "        title2 = \" - Deaths per Day\"\n",
    "        cum_str = f\"{cum_total:,}\" + \" deaths\"\n",
    "\n",
    "    plt.title(jurisdiction + title2, **title_font)\n",
    "    plt.ylabel(\"\")\n",
    "    plt.grid(color='white', linewidth=1)\n",
    "\n",
    "\n",
    "    plt.bar(x, y, color='blue', width = 1.1)\n",
    "\n",
    "    y2 = savgol_filter(y, 21, 2)\n",
    "    ax.plot(x, y2, color='green', linewidth=5)\n",
    "\n",
    "    fig = plt.figure(1)\n",
    "    fig.text(.09,.02,\"Cumulative:  \" + cum_str + \"\\nUpdated:  {:%B %d, %Y %I:%m%p}\".format(datetime.datetime.now()) + \"\\nSource: Center for Systems Science and Engineering at Johns Hopkins University\", **axis_font)\n",
    "    fig.autofmt_xdate()\n",
    "\n",
    "    file_name = os.path.join(file_path,file_name) \n",
    "    fig.savefig(file_name, dpi=100, facecolor='w', edgecolor='w',\n",
    "        orientation='portrait', format=\"png\",\n",
    "        transparent=False, bbox_inches=None, pad_inches=0.1, metadata=None)\n",
    "    plt.close()"
   ]
  },
  {
   "cell_type": "code",
   "execution_count": 445,
   "metadata": {},
   "outputs": [],
   "source": [
    "x, y, mySum = build_xy(df_confirmed)\n",
    "createBarChart(x, y, \"US\", True, mySum, root_path)\n",
    "x, y, mySum = build_xy(df_dead)\n",
    "createBarChart(x, y, \"US\", False, mySum, root_path)"
   ]
  },
  {
   "cell_type": "code",
   "execution_count": 458,
   "metadata": {
    "scrolled": true
   },
   "outputs": [],
   "source": [
    "for state_name in df_confirmed.Province_State.unique():\n",
    "    df_state_confirmed = df_confirmed[df_confirmed['Province_State'] == state_name]\n",
    "    x, y, mySum = build_xy(df_state_confirmed)\n",
    "    createBarChart(x, y, state_name, True, mySum, root_path)\n",
    "    df_state_dead = df_dead[df_dead['Province_State'] == state_name]\n",
    "    x, y, mySum = build_xy(df_state_dead)\n",
    "    createBarChart(x, y, state_name, False, mySum, root_path)\n",
    "    \n",
    "    myDir = os.path.join(root_path,state_name)\n",
    "    if not os.path.isdir(myDir):\n",
    "        os.makedirs(myDir)\n",
    "    \n",
    "    for county_name in df_state_confirmed.Admin2.unique():\n",
    "        if isinstance(county_name, str):\n",
    "            df_county_confirmed = df_state_confirmed[df_state_confirmed['Admin2'] == county_name]\n",
    "            x, y, mySum = build_xy(df_county_confirmed)\n",
    "            createBarChart(x, y, county_name, True, mySum, myDir)\n",
    "            df_county_dead = df_state_dead[df_state_dead['Admin2'] == county_name]\n",
    "            x, y, mySum = build_xy(df_county_dead)\n",
    "            createBarChart(x, y, county_name, False, mySum, myDir)\n",
    "\n",
    "        "
   ]
  },
  {
   "cell_type": "code",
   "execution_count": null,
   "metadata": {},
   "outputs": [],
   "source": []
  }
 ],
 "metadata": {
  "kernelspec": {
   "display_name": "Python 3",
   "language": "python",
   "name": "python3"
  },
  "language_info": {
   "codemirror_mode": {
    "name": "ipython",
    "version": 3
   },
   "file_extension": ".py",
   "mimetype": "text/x-python",
   "name": "python",
   "nbconvert_exporter": "python",
   "pygments_lexer": "ipython3",
   "version": "3.8.8"
  }
 },
 "nbformat": 4,
 "nbformat_minor": 4
}
